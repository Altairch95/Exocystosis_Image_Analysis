{
  "nbformat": 4,
  "nbformat_minor": 0,
  "metadata": {
    "colab": {
      "provenance": [],
      "collapsed_sections": [],
      "authorship_tag": "ABX9TyNqqsPDgaptlg4SVOlPOM+Z",
      "include_colab_link": true
    },
    "kernelspec": {
      "name": "python3",
      "display_name": "Python 3"
    },
    "language_info": {
      "name": "python"
    }
  },
  "cells": [
    {
      "cell_type": "markdown",
      "metadata": {
        "id": "view-in-github",
        "colab_type": "text"
      },
      "source": [
        "<a href=\"https://colab.research.google.com/github/Altairch95/PICT-MODELLER/blob/main/PICT_Modeller.ipynb\" target=\"_parent\"><img src=\"https://colab.research.google.com/assets/colab-badge.svg\" alt=\"Open In Colab\"/></a>"
      ]
    },
    {
      "cell_type": "markdown",
      "source": [
        "# Welcome to ColabPICT <br> \n",
        "In this tutorial, we provide the code to run:\n",
        "\n",
        "1) Image Analysis to estimate distances between fluorophores flagging the subunits of the exocyst complex.\n",
        "\n",
        "2) Modeling the 3D architecture of the exocyst complex by integrating the estimated distances with structural information of the exocyst subunits. \n",
        "\n",
        "For more details, checkout our [GitHub](https://github.com/Altairch95/PICT-MODELLER)."
      ],
      "metadata": {
        "id": "MGMMd5HwWQYl"
      }
    },
    {
      "cell_type": "markdown",
      "source": [
        "# Install Dependencies"
      ],
      "metadata": {
        "id": "hqpR1cyVclJl"
      }
    },
    {
      "cell_type": "code",
      "source": [
        "!git clone https://github.com/Altairch95/PICT-MODELLER.git\n",
        "%cd PICT-MODELLER"
      ],
      "metadata": {
        "colab": {
          "base_uri": "https://localhost:8080/",
          "height": 1000
        },
        "id": "LNETOCaOc1km",
        "outputId": "5f9a4272-16d5-45fb-c0b0-55192b404ffd"
      },
      "execution_count": 1,
      "outputs": [
        {
          "output_type": "stream",
          "name": "stdout",
          "text": [
            "Cloning into 'PICT-MODELLER'...\n",
            "remote: Enumerating objects: 338, done.\u001b[K\n",
            "remote: Counting objects: 100% (143/143), done.\u001b[K\n",
            "remote: Compressing objects: 100% (85/85), done.\u001b[K\n",
            "remote: Total 338 (delta 72), reused 125 (delta 57), pack-reused 195\u001b[K\n",
            "Receiving objects: 100% (338/338), 170.45 MiB | 19.15 MiB/s, done.\n",
            "Resolving deltas: 100% (116/116), done.\n",
            "/content/PICT-MODELLER\n",
            "Looking in indexes: https://pypi.org/simple, https://us-python.pkg.dev/colab-wheels/public/simple/\n",
            "Collecting h5py==2.10.0\n",
            "  Downloading h5py-2.10.0-cp37-cp37m-manylinux1_x86_64.whl (2.9 MB)\n",
            "\u001b[K     |████████████████████████████████| 2.9 MB 4.9 MB/s \n",
            "\u001b[?25hRequirement already satisfied: imgaug==0.4.0 in /usr/local/lib/python3.7/dist-packages (from -r requirements.txt (line 2)) (0.4.0)\n",
            "Collecting Keras==2.1.6\n",
            "  Downloading Keras-2.1.6-py2.py3-none-any.whl (339 kB)\n",
            "\u001b[K     |████████████████████████████████| 339 kB 58.2 MB/s \n",
            "\u001b[?25hCollecting lmfit==1.0.3\n",
            "  Downloading lmfit-1.0.3.tar.gz (292 kB)\n",
            "\u001b[K     |████████████████████████████████| 292 kB 54.2 MB/s \n",
            "\u001b[?25hCollecting matplotlib==3.5.2\n",
            "  Downloading matplotlib-3.5.2-cp37-cp37m-manylinux_2_5_x86_64.manylinux1_x86_64.whl (11.2 MB)\n",
            "\u001b[K     |████████████████████████████████| 11.2 MB 36.5 MB/s \n",
            "\u001b[?25hRequirement already satisfied: numpy==1.21.6 in /usr/local/lib/python3.7/dist-packages (from -r requirements.txt (line 6)) (1.21.6)\n",
            "Requirement already satisfied: pandas==1.3.5 in /usr/local/lib/python3.7/dist-packages (from -r requirements.txt (line 7)) (1.3.5)\n",
            "Collecting Pillow==9.2.0\n",
            "  Downloading Pillow-9.2.0-cp37-cp37m-manylinux_2_17_x86_64.manylinux2014_x86_64.whl (3.1 MB)\n",
            "\u001b[K     |████████████████████████████████| 3.1 MB 29.6 MB/s \n",
            "\u001b[?25hCollecting PIMS==0.6.1\n",
            "  Downloading PIMS-0.6.1.tar.gz (86 kB)\n",
            "\u001b[K     |████████████████████████████████| 86 kB 3.9 MB/s \n",
            "\u001b[?25hCollecting plotly==5.6.0\n",
            "  Downloading plotly-5.6.0-py2.py3-none-any.whl (27.7 MB)\n",
            "\u001b[K     |████████████████████████████████| 27.7 MB 1.2 MB/s \n",
            "\u001b[?25hCollecting pymicro==0.5.1\n",
            "  Downloading pymicro-0.5.1-py3-none-any.whl (364 kB)\n",
            "\u001b[K     |████████████████████████████████| 364 kB 58.7 MB/s \n",
            "\u001b[?25hCollecting PyQt5==5.15.7\n",
            "  Downloading PyQt5-5.15.7-cp37-abi3-manylinux1_x86_64.whl (8.4 MB)\n",
            "\u001b[K     |████████████████████████████████| 8.4 MB 42.1 MB/s \n",
            "\u001b[?25hCollecting pystackreg==0.2.6\n",
            "  Downloading pystackreg-0.2.6-cp37-cp37m-manylinux_2_17_x86_64.manylinux2014_x86_64.whl (841 kB)\n",
            "\u001b[K     |████████████████████████████████| 841 kB 37.4 MB/s \n",
            "\u001b[?25hCollecting scikit_image==0.19.2\n",
            "  Downloading scikit_image-0.19.2-cp37-cp37m-manylinux_2_12_x86_64.manylinux2010_x86_64.whl (13.5 MB)\n",
            "\u001b[K     |████████████████████████████████| 13.5 MB 33.6 MB/s \n",
            "\u001b[?25hRequirement already satisfied: scipy==1.7.3 in /usr/local/lib/python3.7/dist-packages (from -r requirements.txt (line 15)) (1.7.3)\n",
            "Requirement already satisfied: seaborn==0.11.2 in /usr/local/lib/python3.7/dist-packages (from -r requirements.txt (line 16)) (0.11.2)\n",
            "Collecting silence_tensorflow==1.2.0\n",
            "  Downloading silence_tensorflow-1.2.0.tar.gz (2.9 kB)\n",
            "Collecting tensorflow==1.15.0\n",
            "  Downloading tensorflow-1.15.0-cp37-cp37m-manylinux2010_x86_64.whl (412.3 MB)\n",
            "\u001b[K     |████████████████████████████████| 412.3 MB 26 kB/s \n",
            "\u001b[?25hCollecting trackpy==0.5.0\n",
            "  Downloading trackpy-0.5.0.tar.gz (131 kB)\n",
            "\u001b[K     |████████████████████████████████| 131 kB 64.8 MB/s \n",
            "\u001b[?25hCollecting vtk\n",
            "  Downloading vtk-9.2.2-cp37-cp37m-manylinux_2_17_x86_64.manylinux2014_x86_64.whl (79.3 MB)\n",
            "\u001b[K     |████████████████████████████████| 79.3 MB 1.3 MB/s \n",
            "\u001b[?25hRequirement already satisfied: six in /usr/local/lib/python3.7/dist-packages (from h5py==2.10.0->-r requirements.txt (line 1)) (1.15.0)\n",
            "Requirement already satisfied: opencv-python in /usr/local/lib/python3.7/dist-packages (from imgaug==0.4.0->-r requirements.txt (line 2)) (4.6.0.66)\n",
            "Requirement already satisfied: Shapely in /usr/local/lib/python3.7/dist-packages (from imgaug==0.4.0->-r requirements.txt (line 2)) (1.8.5.post1)\n",
            "Requirement already satisfied: imageio in /usr/local/lib/python3.7/dist-packages (from imgaug==0.4.0->-r requirements.txt (line 2)) (2.9.0)\n",
            "Requirement already satisfied: pyyaml in /usr/local/lib/python3.7/dist-packages (from Keras==2.1.6->-r requirements.txt (line 3)) (6.0)\n",
            "Collecting asteval>=0.9.22\n",
            "  Downloading asteval-0.9.28-py3-none-any.whl (18 kB)\n",
            "Collecting uncertainties>=3.0.1\n",
            "  Downloading uncertainties-3.1.7-py2.py3-none-any.whl (98 kB)\n",
            "\u001b[K     |████████████████████████████████| 98 kB 6.8 MB/s \n",
            "\u001b[?25hRequirement already satisfied: pyparsing>=2.2.1 in /usr/local/lib/python3.7/dist-packages (from matplotlib==3.5.2->-r requirements.txt (line 5)) (3.0.9)\n",
            "Requirement already satisfied: cycler>=0.10 in /usr/local/lib/python3.7/dist-packages (from matplotlib==3.5.2->-r requirements.txt (line 5)) (0.11.0)\n",
            "Requirement already satisfied: kiwisolver>=1.0.1 in /usr/local/lib/python3.7/dist-packages (from matplotlib==3.5.2->-r requirements.txt (line 5)) (1.4.4)\n",
            "Requirement already satisfied: python-dateutil>=2.7 in /usr/local/lib/python3.7/dist-packages (from matplotlib==3.5.2->-r requirements.txt (line 5)) (2.8.2)\n",
            "Collecting fonttools>=4.22.0\n",
            "  Downloading fonttools-4.38.0-py3-none-any.whl (965 kB)\n",
            "\u001b[K     |████████████████████████████████| 965 kB 59.4 MB/s \n",
            "\u001b[?25hRequirement already satisfied: packaging>=20.0 in /usr/local/lib/python3.7/dist-packages (from matplotlib==3.5.2->-r requirements.txt (line 5)) (21.3)\n",
            "Requirement already satisfied: pytz>=2017.3 in /usr/local/lib/python3.7/dist-packages (from pandas==1.3.5->-r requirements.txt (line 7)) (2022.6)\n",
            "Collecting slicerator>=0.9.8\n",
            "  Downloading slicerator-1.1.0-py3-none-any.whl (10 kB)\n",
            "Requirement already satisfied: tenacity>=6.2.0 in /usr/local/lib/python3.7/dist-packages (from plotly==5.6.0->-r requirements.txt (line 10)) (8.1.0)\n",
            "Collecting PyQt5-Qt5>=5.15.0\n",
            "  Downloading PyQt5_Qt5-5.15.2-py3-none-manylinux2014_x86_64.whl (59.9 MB)\n",
            "\u001b[K     |████████████████████████████████| 59.9 MB 96 kB/s \n",
            "\u001b[?25hCollecting PyQt5-sip<13,>=12.11\n",
            "  Downloading PyQt5_sip-12.11.0-cp37-cp37m-manylinux1_x86_64.whl (344 kB)\n",
            "\u001b[K     |████████████████████████████████| 344 kB 48.6 MB/s \n",
            "\u001b[?25hRequirement already satisfied: tqdm in /usr/local/lib/python3.7/dist-packages (from pystackreg==0.2.6->-r requirements.txt (line 13)) (4.64.1)\n",
            "Requirement already satisfied: PyWavelets>=1.1.1 in /usr/local/lib/python3.7/dist-packages (from scikit_image==0.19.2->-r requirements.txt (line 14)) (1.3.0)\n",
            "Requirement already satisfied: tifffile>=2019.7.26 in /usr/local/lib/python3.7/dist-packages (from scikit_image==0.19.2->-r requirements.txt (line 14)) (2021.11.2)\n",
            "Requirement already satisfied: networkx>=2.2 in /usr/local/lib/python3.7/dist-packages (from scikit_image==0.19.2->-r requirements.txt (line 14)) (2.6.3)\n",
            "Collecting keras-applications>=1.0.8\n",
            "  Downloading Keras_Applications-1.0.8-py3-none-any.whl (50 kB)\n",
            "\u001b[K     |████████████████████████████████| 50 kB 6.1 MB/s \n",
            "\u001b[?25hRequirement already satisfied: google-pasta>=0.1.6 in /usr/local/lib/python3.7/dist-packages (from tensorflow==1.15.0->-r requirements.txt (line 18)) (0.2.0)\n",
            "Requirement already satisfied: absl-py>=0.7.0 in /usr/local/lib/python3.7/dist-packages (from tensorflow==1.15.0->-r requirements.txt (line 18)) (1.3.0)\n",
            "Requirement already satisfied: wheel>=0.26 in /usr/local/lib/python3.7/dist-packages (from tensorflow==1.15.0->-r requirements.txt (line 18)) (0.38.3)\n",
            "Collecting tensorboard<1.16.0,>=1.15.0\n",
            "  Downloading tensorboard-1.15.0-py3-none-any.whl (3.8 MB)\n",
            "\u001b[K     |████████████████████████████████| 3.8 MB 23.2 MB/s \n",
            "\u001b[?25hRequirement already satisfied: protobuf>=3.6.1 in /usr/local/lib/python3.7/dist-packages (from tensorflow==1.15.0->-r requirements.txt (line 18)) (3.19.6)\n",
            "Collecting gast==0.2.2\n",
            "  Downloading gast-0.2.2.tar.gz (10 kB)\n",
            "Requirement already satisfied: keras-preprocessing>=1.0.5 in /usr/local/lib/python3.7/dist-packages (from tensorflow==1.15.0->-r requirements.txt (line 18)) (1.1.2)\n",
            "Collecting tensorflow-estimator==1.15.1\n",
            "  Downloading tensorflow_estimator-1.15.1-py2.py3-none-any.whl (503 kB)\n",
            "\u001b[K     |████████████████████████████████| 503 kB 35.3 MB/s \n",
            "\u001b[?25hRequirement already satisfied: grpcio>=1.8.6 in /usr/local/lib/python3.7/dist-packages (from tensorflow==1.15.0->-r requirements.txt (line 18)) (1.50.0)\n",
            "Requirement already satisfied: termcolor>=1.1.0 in /usr/local/lib/python3.7/dist-packages (from tensorflow==1.15.0->-r requirements.txt (line 18)) (2.1.0)\n",
            "Requirement already satisfied: astor>=0.6.0 in /usr/local/lib/python3.7/dist-packages (from tensorflow==1.15.0->-r requirements.txt (line 18)) (0.8.1)\n",
            "Requirement already satisfied: opt-einsum>=2.3.2 in /usr/local/lib/python3.7/dist-packages (from tensorflow==1.15.0->-r requirements.txt (line 18)) (3.3.0)\n",
            "Requirement already satisfied: wrapt>=1.11.1 in /usr/local/lib/python3.7/dist-packages (from tensorflow==1.15.0->-r requirements.txt (line 18)) (1.14.1)\n",
            "Requirement already satisfied: importlib-metadata in /usr/local/lib/python3.7/dist-packages (from asteval>=0.9.22->lmfit==1.0.3->-r requirements.txt (line 4)) (4.13.0)\n",
            "Requirement already satisfied: typing-extensions in /usr/local/lib/python3.7/dist-packages (from kiwisolver>=1.0.1->matplotlib==3.5.2->-r requirements.txt (line 5)) (4.1.1)\n",
            "Requirement already satisfied: setuptools>=41.0.0 in /usr/local/lib/python3.7/dist-packages (from tensorboard<1.16.0,>=1.15.0->tensorflow==1.15.0->-r requirements.txt (line 18)) (57.4.0)\n",
            "Requirement already satisfied: werkzeug>=0.11.15 in /usr/local/lib/python3.7/dist-packages (from tensorboard<1.16.0,>=1.15.0->tensorflow==1.15.0->-r requirements.txt (line 18)) (1.0.1)\n",
            "Requirement already satisfied: markdown>=2.6.8 in /usr/local/lib/python3.7/dist-packages (from tensorboard<1.16.0,>=1.15.0->tensorflow==1.15.0->-r requirements.txt (line 18)) (3.4.1)\n",
            "Requirement already satisfied: zipp>=0.5 in /usr/local/lib/python3.7/dist-packages (from importlib-metadata->asteval>=0.9.22->lmfit==1.0.3->-r requirements.txt (line 4)) (3.10.0)\n",
            "Requirement already satisfied: future in /usr/local/lib/python3.7/dist-packages (from uncertainties>=3.0.1->lmfit==1.0.3->-r requirements.txt (line 4)) (0.16.0)\n",
            "Collecting wslink>=1.0.4\n",
            "  Downloading wslink-1.9.1-py3-none-any.whl (28 kB)\n",
            "Requirement already satisfied: aiohttp<4 in /usr/local/lib/python3.7/dist-packages (from wslink>=1.0.4->vtk->-r requirements.txt (line 20)) (3.8.3)\n",
            "Requirement already satisfied: yarl<2.0,>=1.0 in /usr/local/lib/python3.7/dist-packages (from aiohttp<4->wslink>=1.0.4->vtk->-r requirements.txt (line 20)) (1.8.1)\n",
            "Requirement already satisfied: aiosignal>=1.1.2 in /usr/local/lib/python3.7/dist-packages (from aiohttp<4->wslink>=1.0.4->vtk->-r requirements.txt (line 20)) (1.3.1)\n",
            "Requirement already satisfied: async-timeout<5.0,>=4.0.0a3 in /usr/local/lib/python3.7/dist-packages (from aiohttp<4->wslink>=1.0.4->vtk->-r requirements.txt (line 20)) (4.0.2)\n",
            "Requirement already satisfied: asynctest==0.13.0 in /usr/local/lib/python3.7/dist-packages (from aiohttp<4->wslink>=1.0.4->vtk->-r requirements.txt (line 20)) (0.13.0)\n",
            "Requirement already satisfied: frozenlist>=1.1.1 in /usr/local/lib/python3.7/dist-packages (from aiohttp<4->wslink>=1.0.4->vtk->-r requirements.txt (line 20)) (1.3.3)\n",
            "Requirement already satisfied: attrs>=17.3.0 in /usr/local/lib/python3.7/dist-packages (from aiohttp<4->wslink>=1.0.4->vtk->-r requirements.txt (line 20)) (22.1.0)\n",
            "Requirement already satisfied: charset-normalizer<3.0,>=2.0 in /usr/local/lib/python3.7/dist-packages (from aiohttp<4->wslink>=1.0.4->vtk->-r requirements.txt (line 20)) (2.1.1)\n",
            "Requirement already satisfied: multidict<7.0,>=4.5 in /usr/local/lib/python3.7/dist-packages (from aiohttp<4->wslink>=1.0.4->vtk->-r requirements.txt (line 20)) (6.0.2)\n",
            "Requirement already satisfied: idna>=2.0 in /usr/local/lib/python3.7/dist-packages (from yarl<2.0,>=1.0->aiohttp<4->wslink>=1.0.4->vtk->-r requirements.txt (line 20)) (2.10)\n",
            "Building wheels for collected packages: lmfit, PIMS, silence-tensorflow, trackpy, gast\n",
            "  Building wheel for lmfit (setup.py) ... \u001b[?25l\u001b[?25hdone\n",
            "  Created wheel for lmfit: filename=lmfit-1.0.3-py3-none-any.whl size=84411 sha256=e5a1c46765f74743e73e37ce5eae533015a2638bf42480b1a359a3cf75d97d9f\n",
            "  Stored in directory: /root/.cache/pip/wheels/b9/7a/d1/236aa0f8196b264fda481a112f7cfb1bfde7bfb20235f8e331\n",
            "  Building wheel for PIMS (setup.py) ... \u001b[?25l\u001b[?25hdone\n",
            "  Created wheel for PIMS: filename=PIMS-0.6.1-py3-none-any.whl size=82636 sha256=a8bc0d17283d2e5cc6daf0662ac63e76c9ebe74bf90dbe0b2ac26a737acc1918\n",
            "  Stored in directory: /root/.cache/pip/wheels/8e/d5/a9/f702433436655b7a2bc7ff93efd742587dd5abd44f7e406917\n",
            "  Building wheel for silence-tensorflow (setup.py) ... \u001b[?25l\u001b[?25hdone\n",
            "  Created wheel for silence-tensorflow: filename=silence_tensorflow-1.2.0-py3-none-any.whl size=3411 sha256=44213890e787efe31b1816ec3a066444c0ae5e89da8b23e284f8f7d73c11b560\n",
            "  Stored in directory: /root/.cache/pip/wheels/2f/10/81/be469f8fb2be0a0e4a6696027cf099960a1dd6f3961ce8df8e\n",
            "  Building wheel for trackpy (setup.py) ... \u001b[?25l\u001b[?25hdone\n",
            "  Created wheel for trackpy: filename=trackpy-0.5.0-py3-none-any.whl size=128768 sha256=d10cf0da383b5db7f32906b9ede68d892eeae3983378d00c02c832aa86c6a1a0\n",
            "  Stored in directory: /root/.cache/pip/wheels/fa/0b/63/748d0a53a28526c0bfd68b1b71b3a107060a1cfdb5849ae2d1\n",
            "  Building wheel for gast (setup.py) ... \u001b[?25l\u001b[?25hdone\n",
            "  Created wheel for gast: filename=gast-0.2.2-py3-none-any.whl size=7554 sha256=7d391a220594866d5b5239e5b0f39adf3a1cc43a9b892659ebcfe651bd8ad52e\n",
            "  Stored in directory: /root/.cache/pip/wheels/21/7f/02/420f32a803f7d0967b48dd823da3f558c5166991bfd204eef3\n",
            "Successfully built lmfit PIMS silence-tensorflow trackpy gast\n",
            "Installing collected packages: Pillow, h5py, fonttools, wslink, uncertainties, tensorflow-estimator, tensorboard, slicerator, scikit-image, PyQt5-sip, PyQt5-Qt5, matplotlib, keras-applications, gast, asteval, vtk, trackpy, tensorflow, silence-tensorflow, pystackreg, PyQt5, pymicro, plotly, PIMS, lmfit, Keras\n",
            "  Attempting uninstall: Pillow\n",
            "    Found existing installation: Pillow 7.1.2\n",
            "    Uninstalling Pillow-7.1.2:\n",
            "      Successfully uninstalled Pillow-7.1.2\n",
            "  Attempting uninstall: h5py\n",
            "    Found existing installation: h5py 3.1.0\n",
            "    Uninstalling h5py-3.1.0:\n",
            "      Successfully uninstalled h5py-3.1.0\n",
            "  Attempting uninstall: tensorflow-estimator\n",
            "    Found existing installation: tensorflow-estimator 2.9.0\n",
            "    Uninstalling tensorflow-estimator-2.9.0:\n",
            "      Successfully uninstalled tensorflow-estimator-2.9.0\n",
            "  Attempting uninstall: tensorboard\n",
            "    Found existing installation: tensorboard 2.9.1\n",
            "    Uninstalling tensorboard-2.9.1:\n",
            "      Successfully uninstalled tensorboard-2.9.1\n",
            "  Attempting uninstall: scikit-image\n",
            "    Found existing installation: scikit-image 0.18.3\n",
            "    Uninstalling scikit-image-0.18.3:\n",
            "      Successfully uninstalled scikit-image-0.18.3\n",
            "  Attempting uninstall: matplotlib\n",
            "    Found existing installation: matplotlib 3.2.2\n",
            "    Uninstalling matplotlib-3.2.2:\n",
            "      Successfully uninstalled matplotlib-3.2.2\n",
            "  Attempting uninstall: gast\n",
            "    Found existing installation: gast 0.4.0\n",
            "    Uninstalling gast-0.4.0:\n",
            "      Successfully uninstalled gast-0.4.0\n",
            "  Attempting uninstall: tensorflow\n",
            "    Found existing installation: tensorflow 2.9.2\n",
            "    Uninstalling tensorflow-2.9.2:\n",
            "      Successfully uninstalled tensorflow-2.9.2\n",
            "  Attempting uninstall: plotly\n",
            "    Found existing installation: plotly 5.5.0\n",
            "    Uninstalling plotly-5.5.0:\n",
            "      Successfully uninstalled plotly-5.5.0\n",
            "  Attempting uninstall: Keras\n",
            "    Found existing installation: keras 2.9.0\n",
            "    Uninstalling keras-2.9.0:\n",
            "      Successfully uninstalled keras-2.9.0\n",
            "\u001b[31mERROR: pip's dependency resolver does not currently take into account all the packages that are installed. This behaviour is the source of the following dependency conflicts.\n",
            "tensorflow-probability 0.17.0 requires gast>=0.3.2, but you have gast 0.2.2 which is incompatible.\n",
            "kapre 0.3.7 requires tensorflow>=2.0.0, but you have tensorflow 1.15.0 which is incompatible.\u001b[0m\n",
            "Successfully installed Keras-2.1.6 PIMS-0.6.1 Pillow-9.2.0 PyQt5-5.15.7 PyQt5-Qt5-5.15.2 PyQt5-sip-12.11.0 asteval-0.9.28 fonttools-4.38.0 gast-0.2.2 h5py-2.10.0 keras-applications-1.0.8 lmfit-1.0.3 matplotlib-3.5.2 plotly-5.6.0 pymicro-0.5.1 pystackreg-0.2.6 scikit-image-0.19.2 silence-tensorflow-1.2.0 slicerator-1.1.0 tensorboard-1.15.0 tensorflow-1.15.0 tensorflow-estimator-1.15.1 trackpy-0.5.0 uncertainties-3.1.7 vtk-9.2.2 wslink-1.9.1\n"
          ]
        },
        {
          "output_type": "display_data",
          "data": {
            "application/vnd.colab-display-data+json": {
              "pip_warning": {
                "packages": [
                  "PIL",
                  "matplotlib",
                  "mpl_toolkits"
                ]
              }
            }
          },
          "metadata": {}
        }
      ]
    },
    {
      "cell_type": "code",
      "source": [
        "!pip install -r requirements.txt"
      ],
      "metadata": {
        "id": "C7QoZcBqiujg"
      },
      "execution_count": null,
      "outputs": []
    },
    {
      "cell_type": "markdown",
      "source": [
        "# Test Run\n",
        "\n",
        "The pipeline will run the *--test* option to check that everything runs ok.<br>\n",
        "The test is composed by 5 raw images from the dataset used in [Picco et al., 2017](https://www.sciencedirect.com/science/article/pii/S0092867417300521). The test images are located in *test/input/pict_images/*. At the end of the job, you can check the results on *test/output/*: <br>\n",
        "\n",
        "*   *images/* contains the processed images.\n",
        "*   *spots/*: contains the data from spot detection on your PICT images.\n",
        "*   *segmentation/*: contains the segmented images, masks, and contour images.\n",
        "*   *results/*: contains the resulting files from each processing/analysis step\n",
        "*   *figures/*: contains HTML and png files to get track of the detected and selected spots for each image, on each step, as well as the distance distribution for each step. It also contains PDF file with the final distance distribution and params estimates (mu and sigma) <br>"
      ],
      "metadata": {
        "id": "XPve2mc2cXcb"
      }
    },
    {
      "cell_type": "code",
      "source": [
        "%cd scripts\n",
        "!ls"
      ],
      "metadata": {
        "colab": {
          "base_uri": "https://localhost:8080/"
        },
        "id": "HMRCzlracekZ",
        "outputId": "fc36b868-561e-4153-b74f-7205c23729b6"
      },
      "execution_count": 2,
      "outputs": [
        {
          "output_type": "stream",
          "name": "stdout",
          "text": [
            "/content/PICT-MODELLER/scripts\n",
            "Using TensorFlow backend.\n",
            "Traceback (most recent call last):\n",
            "  File \"measure_pict_distances.py\", line 55, in <module>\n",
            "    from calculate_PICT_distances import *\n",
            "  File \"/content/PICT-MODELLER/scripts/calculate_PICT_distances.py\", line 17, in <module>\n",
            "    from segmentation_pp import *\n",
            "  File \"/content/PICT-MODELLER/scripts/segmentation_pp.py\", line 33, in <module>\n",
            "    from mrcnn.my_inference import predict_images\n",
            "  File \"/content/PICT-MODELLER/scripts/mrcnn/my_inference.py\", line 16, in <module>\n",
            "    tf.random.set_seed(seed)\n",
            "  File \"/usr/local/lib/python3.7/dist-packages/tensorflow_core/python/util/module_wrapper.py\", line 193, in __getattr__\n",
            "    attr = getattr(self._tfmw_wrapped_module, name)\n",
            "AttributeError: module 'tensorflow._api.v1.random' has no attribute 'set_seed'\n"
          ]
        }
      ]
    },
    {
      "cell_type": "code",
      "source": [
        "!python3 measure_pict_distances.py --test"
      ],
      "metadata": {
        "colab": {
          "base_uri": "https://localhost:8080/"
        },
        "id": "2Ta1axh8i1Jg",
        "outputId": "c54967ba-38b7-445f-d634-6ef7de174aeb"
      },
      "execution_count": null,
      "outputs": [
        {
          "output_type": "stream",
          "name": "stdout",
          "text": [
            "Using TensorFlow backend.\n",
            "\n",
            "\n",
            "\tRunning PICT-MOD!\n",
            "\n",
            "\tYour paths: \n",
            "\t\t Working directory: ../test/\n",
            "\t\t Input directory: ../test/input/\n",
            "\t\t Output directory: ../test/output/\n",
            "\n",
            "#########\n",
            "\n",
            "\tCreating stacks W1-W2...\n",
            " \n",
            "\n",
            "#############################\n",
            "     BEADS REGISTRATION \n",
            "#############################\n",
            "\n",
            "trackpy.feature.batch:  Frame 0: 753 features\n",
            "trackpy.feature.batch:  Frame 1: 964 features\n",
            "\n",
            "Initial number of spots detected by trackpy: 1717\n",
            "Number of spots discarded regarding mass: 167\n",
            "Final number of selected spots: 1550\n",
            "\n",
            "\n",
            "trackpy.linking.linking.link_iter:  Frame 1: 907 trajectories present.\n",
            "trackpy.feature.batch:  Frame 0: 766 features\n",
            "trackpy.feature.batch:  Frame 1: 950 features\n",
            "\n",
            "Initial number of spots detected by trackpy: 1716\n",
            "Number of spots discarded regarding mass: 180\n",
            "Final number of selected spots: 1536\n",
            "\n",
            "\n",
            "trackpy.linking.linking.link_iter:  Frame 1: 888 trajectories present.\n",
            "trackpy.feature.batch:  Frame 0: 789 features\n",
            "trackpy.feature.batch:  Frame 1: 987 features\n",
            "\n",
            "Initial number of spots detected by trackpy: 1776\n",
            "Number of spots discarded regarding mass: 235\n",
            "Final number of selected spots: 1541\n",
            "\n",
            "\n",
            "trackpy.linking.linking.link_iter:  Frame 1: 884 trajectories present.\n",
            "trackpy.feature.batch:  Frame 0: 762 features\n",
            "trackpy.feature.batch:  Frame 1: 951 features\n",
            "\n",
            "Initial number of spots detected by trackpy: 1713\n",
            "Number of spots discarded regarding mass: 170\n",
            "Final number of selected spots: 1543\n",
            "\n",
            "\n",
            "trackpy.linking.linking.link_iter:  Frame 1: 892 trajectories present.\n",
            "Beads Distances AFTER Warping\n",
            "\n",
            "mean before = 68.83 nm; stdev before = 13.06 nm\n",
            "mean after = 8.51 nm; stdev after = 7.0 nm \n",
            "\n",
            "\tBEADS REGISTERED! \n",
            "\n",
            "\n",
            "#############################\n",
            "     Image Preprocessing \n",
            "#############################\n",
            "\n",
            "Background Subtraction on 111110_F9_RFP-3000_GFP-3000_100_03\n",
            "\t111110_F9_RFP-3000_GFP-3000_100_03 saved in ../test/output/images/\n",
            "\n",
            "Background Subtraction and Median Filter on 111110_F9_RFP-3000_GFP-3000_100_03\n",
            "imageMD_03 saved in ../test/output/images/\n",
            "Background Subtraction on 111110_F9_RFP-3000_GFP-3000_100_02\n"
          ]
        }
      ]
    },
    {
      "cell_type": "markdown",
      "source": [
        "# Process your images \n",
        "\n",
        "1) Upload your dataset in a folder with the same structure as the *test*:<br>\n",
        "\n",
        "\n",
        "> *my_dataset/* <br>\n",
        ">>*input/*\n",
        ">>>*pict_images/* --> Your PICT images should be here.<br>\n",
        ">>>*beads/* --> your bead images should be here. <br>\n",
        "\n",
        "2) Run it:<br>\n",
        "\n",
        "\n",
        "\n",
        "\n",
        "\n",
        "\n",
        "\n",
        "\n",
        "\n"
      ],
      "metadata": {
        "id": "NIm8FjK0UWbo"
      }
    },
    {
      "cell_type": "code",
      "source": [
        "!python3 measure_pict_distances.py --my_dataset  # change my_dataset with the name of your folder"
      ],
      "metadata": {
        "colab": {
          "base_uri": "https://localhost:8080/"
        },
        "id": "hJJAvVoIUv3z",
        "outputId": "97c2aad2-66b2-4617-b53b-410eacf99257"
      },
      "execution_count": 1,
      "outputs": [
        {
          "output_type": "stream",
          "name": "stdout",
          "text": [
            "Drive already mounted at /content/drive; to attempt to forcibly remount, call drive.mount(\"/content/drive\", force_remount=True).\n"
          ]
        }
      ]
    }
  ]
}